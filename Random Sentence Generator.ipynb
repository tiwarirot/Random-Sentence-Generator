{
 "cells": [
  {
   "cell_type": "code",
   "execution_count": 1,
   "metadata": {},
   "outputs": [],
   "source": [
    "import random"
   ]
  },
  {
   "cell_type": "code",
   "execution_count": 15,
   "metadata": {},
   "outputs": [
    {
     "name": "stdout",
     "output_type": "stream",
     "text": [
      "[('Two', 'green'), ('Three', 'cats'), ('Four', 'dogs'), ('red', 'zebras'), ('yellow', 'jumped.')]\n"
     ]
    }
   ],
   "source": [
    "at = [\"Two\",\"Three\", \"Four\",\"red\",\"yellow\",\"green\",\"cats\",\"dogs\",\"zebras\",\"jumped.\"]\n",
    "words = list(zip(at, at[5:]))\n",
    "#print(words)\n",
    "for i in range(5):\n",
    "    print(' '.join([random.choice(i) for i in words]))"
   ]
  },
  {
   "cell_type": "code",
   "execution_count": 7,
   "metadata": {},
   "outputs": [
    {
     "name": "stdout",
     "output_type": "stream",
     "text": [
      "Two Three Four Red Yellow Green Cats Dogs Zebras Jumped\n",
      "['Two', 'Three', 'Four', 'Red', 'Yellow', 'Green', 'Cats', 'Dogs', 'Zebras', 'Jumped']\n"
     ]
    }
   ],
   "source": [
    "word = input().split()\n",
    "print(word)"
   ]
  },
  {
   "cell_type": "code",
   "execution_count": 8,
   "metadata": {},
   "outputs": [
    {
     "name": "stdout",
     "output_type": "stream",
     "text": [
      "['Green', 'Cats', 'Dogs', 'Zebras', 'Jumped']\n"
     ]
    }
   ],
   "source": [
    "print(word[int(len(word)/2):])"
   ]
  },
  {
   "cell_type": "code",
   "execution_count": 9,
   "metadata": {},
   "outputs": [
    {
     "name": "stdout",
     "output_type": "stream",
     "text": [
      "[('Two', 'Green'), ('Three', 'Cats'), ('Four', 'Dogs'), ('Red', 'Zebras'), ('Yellow', 'Jumped')]\n"
     ]
    }
   ],
   "source": [
    "word_dict = list(zip(word, word[int(len(word)/2):]))\n",
    "print(word_dict)"
   ]
  },
  {
   "cell_type": "code",
   "execution_count": 10,
   "metadata": {},
   "outputs": [
    {
     "name": "stdout",
     "output_type": "stream",
     "text": [
      "Two Three Four Red Jumped\n",
      "Two Cats Dogs Zebras Jumped\n",
      "Green Cats Dogs Zebras Jumped\n",
      "Green Three Dogs Red Yellow\n",
      "Two Three Four Red Yellow\n"
     ]
    }
   ],
   "source": [
    "for i in range(5):\n",
    "    print(' '.join([random.choice(i) for i in word_dict]))"
   ]
  },
  {
   "cell_type": "code",
   "execution_count": null,
   "metadata": {},
   "outputs": [],
   "source": []
  }
 ],
 "metadata": {
  "kernelspec": {
   "display_name": "Python 3",
   "language": "python",
   "name": "python3"
  },
  "language_info": {
   "codemirror_mode": {
    "name": "ipython",
    "version": 3
   },
   "file_extension": ".py",
   "mimetype": "text/x-python",
   "name": "python",
   "nbconvert_exporter": "python",
   "pygments_lexer": "ipython3",
   "version": "3.6.5"
  }
 },
 "nbformat": 4,
 "nbformat_minor": 2
}
